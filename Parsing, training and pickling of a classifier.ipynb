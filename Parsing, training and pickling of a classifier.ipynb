{
 "cells": [
  {
   "cell_type": "code",
   "execution_count": 26,
   "id": "8c0485a2",
   "metadata": {},
   "outputs": [],
   "source": [
    "import pandas as pd\n",
    "import numpy as np\n",
    "import bs4\n",
    "import requests\n",
    "import time\n",
    "import matplotlib.pyplot as plt\n",
    "import codecs\n",
    "import os\n",
    "\n",
    "from sklearn.feature_extraction.text import CountVectorizer, TfidfVectorizer\n",
    "from sklearn.pipeline import Pipeline\n",
    "from sklearn.svm import LinearSVC\n",
    "\n",
    "from nltk.corpus import stopwords\n",
    "from sklearn.model_selection import cross_val_score\n",
    "\n",
    "import pickle"
   ]
  },
  {
   "cell_type": "markdown",
   "id": "3d6e2a31",
   "metadata": {},
   "source": [
    "# 1) Parsing of the training set"
   ]
  },
  {
   "cell_type": "code",
   "execution_count": 7,
   "id": "775933a2",
   "metadata": {},
   "outputs": [
    {
     "name": "stdout",
     "output_type": "stream",
     "text": [
      "Wall time: 23.3 s\n"
     ]
    }
   ],
   "source": [
    "%%time\n",
    "# Parsing of areviews.ru site\n",
    "path = \"C:\\\\Users\\\\All\\\\Курс 6. Финальный проект\\\\Неделя 6\"\n",
    "os.chdir(path)\n",
    "counter = 0 \n",
    "with open(\"areviews.txt\") as links_file:\n",
    "    for link in links_file:\n",
    "        t_sleep = np.random.randint(1, 100) * 0.01 # It's better to wait for up to 1 s in order to avoid a ban\n",
    "        time.sleep(t_sleep) \n",
    "        req = requests.get(link[:-1])         # Making a request for the current link\n",
    "        soup = bs4.BeautifulSoup(req.text, 'lxml') # The text of all reviews is in req.text\n",
    "        reviews_parser = soup.find('ul', attrs={'class', 'comment_list'}).findAll('li')\n",
    "        for review in reviews_parser:            \n",
    "            review_parts = review.findAll('p') # Finding the text of the review\n",
    "            for res in review_parts:\n",
    "                counter += 1\n",
    "                if res.findChild('b').text == u\"Достоинства:\": # ADVANTAGES are classified as positive reviews \n",
    "                    with open(\"pos/\"+str(counter)+\".txt\", 'w') as fid:\n",
    "                        fid.write(str(res.text[12:].strip().lower()))\n",
    "                if res.findChild('b').text == u\"Недостатки:\": # DISADVANTAGES are classified as negative reviews \n",
    "                    with open(\"neg/\"+str(counter)+\".txt\", 'w') as fid:\n",
    "                        fid.write(str(res.text[11:].strip().lower()))"
   ]
  },
  {
   "cell_type": "markdown",
   "id": "fe1e6d0e",
   "metadata": {},
   "source": [
    "So far we have 1330 of negative and positive reviews each. The training set is well balanced."
   ]
  },
  {
   "cell_type": "markdown",
   "id": "c3c8d2a1",
   "metadata": {},
   "source": [
    "# 2) Data labeling for pipeline training (vectorizer + classifier)\n"
   ]
  },
  {
   "cell_type": "code",
   "execution_count": 13,
   "id": "09680f77",
   "metadata": {},
   "outputs": [],
   "source": [
    "train = pd.DataFrame(columns = ['text']) #Training set dataframe\n",
    "labels = 1330 * [1] + 1330 * [0] # A list with class labels"
   ]
  },
  {
   "cell_type": "code",
   "execution_count": 14,
   "id": "0b509cef",
   "metadata": {},
   "outputs": [],
   "source": [
    "#Filling the dataframe with positive reviews\n",
    "path = \"C:\\\\Users\\\\All\\\\Курс 6. Финальный проект\\\\Неделя 6\\\\pos\"\n",
    "os.chdir(path)\n",
    "list_of_pos = os.listdir()\n",
    "counter = 0\n",
    "for file in list_of_pos:\n",
    "    text = \"\"\n",
    "    with open (file, 'r') as f_obj: \n",
    "        for line in f_obj.readlines():\n",
    "            text += line.strip()\n",
    "    train.loc[counter] = [text]\n",
    "    counter += 1"
   ]
  },
  {
   "cell_type": "code",
   "execution_count": 15,
   "id": "40273816",
   "metadata": {},
   "outputs": [],
   "source": [
    "#Filling the dataframe with negative reviews\n",
    "path = \"C:\\\\Users\\\\All\\\\Курс 6. Финальный проект\\\\Неделя 6\\\\neg\"\n",
    "os.chdir(path)\n",
    "list_of_neg = os.listdir()\n",
    "for file in list_of_neg:\n",
    "    text = \"\"\n",
    "    with open (file, 'r') as f_obj: \n",
    "        for line in f_obj.readlines():\n",
    "            text += line.strip()\n",
    "    train.loc[counter] = [text]\n",
    "    counter += 1"
   ]
  },
  {
   "cell_type": "markdown",
   "id": "8109df85",
   "metadata": {},
   "source": [
    "# 3) Looking for an optimal pipeline"
   ]
  },
  {
   "cell_type": "code",
   "execution_count": 16,
   "id": "16eb014f",
   "metadata": {},
   "outputs": [
    {
     "name": "stdout",
     "output_type": "stream",
     "text": [
      "The mean accuracy of the default SVC 0.8845864661654135\n"
     ]
    }
   ],
   "source": [
    "# Making a CountVectorizer + LinearSVC pipeline\n",
    "pipe = Pipeline([('vect', CountVectorizer(stop_words = stopwords.words(\"russian\"))), ('SVC', LinearSVC())])\n",
    "# Calculation of accuracy on 5 folds\n",
    "print('The mean accuracy of the default SVC', cross_val_score(pipe, train['text'], labels, scoring='accuracy', cv=5).mean())"
   ]
  },
  {
   "cell_type": "code",
   "execution_count": 17,
   "id": "679f35ab",
   "metadata": {},
   "outputs": [
    {
     "name": "stdout",
     "output_type": "stream",
     "text": [
      "The mean accuracy of the improved SVC 0.9195488721804512\n"
     ]
    }
   ],
   "source": [
    "# Making a TfIDFVectorizer + LinearSVC pipeline\n",
    "pipe = Pipeline([('vect', TfidfVectorizer(stop_words = stopwords.words(\"russian\"))), ('SVC', LinearSVC())])\n",
    "# Calculation of accuracy on 5 folds\n",
    "print('The mean accuracy of the improved SVC', cross_val_score(pipe, train['text'], labels, scoring='accuracy', cv=5).mean())"
   ]
  },
  {
   "cell_type": "markdown",
   "id": "ec64f992",
   "metadata": {},
   "source": [
    "TfIdf works a bit better than CountVectorizer. Let's try to fit the parameters."
   ]
  },
  {
   "cell_type": "code",
   "execution_count": 18,
   "id": "8b3b9a9c",
   "metadata": {},
   "outputs": [],
   "source": [
    "scores = []\n",
    "n_gram_max = np.arange(1, 10, 1)\n",
    "for i in n_gram_max:\n",
    "    pipe = Pipeline([('vect', TfidfVectorizer(stop_words = stopwords.words(\"russian\"), ngram_range = (1, i))), ('SVC', LinearSVC())])\n",
    "    scores.append(cross_val_score(pipe, train['text'], labels, scoring='accuracy', cv=5).mean())"
   ]
  },
  {
   "cell_type": "code",
   "execution_count": 19,
   "id": "bb2faf23",
   "metadata": {},
   "outputs": [
    {
     "name": "stderr",
     "output_type": "stream",
     "text": [
      "No handles with labels found to put in legend.\n"
     ]
    },
    {
     "data": {
      "text/plain": [
       "<matplotlib.legend.Legend at 0x15c387b400>"
      ]
     },
     "execution_count": 19,
     "metadata": {},
     "output_type": "execute_result"
    },
    {
     "data": {
      "image/png": "[encoded data removed]",
      "text/plain": [
       "<Figure size 432x288 with 1 Axes>"
      ]
     },
     "metadata": {
      "needs_background": "light"
     },
     "output_type": "display_data"
    }
   ],
   "source": [
    "plt.title(\"Variation of ngram range\")\n",
    "plt.plot(n_gram_max, scores)\n",
    "plt.xlabel(\"Maximal length of an n-gram\")\n",
    "plt.ylabel(\"Accuracy\")\n",
    "plt.legend()"
   ]
  },
  {
   "cell_type": "markdown",
   "id": "c59bea7b",
   "metadata": {},
   "source": [
    "Apparently, the best size of an n-gram is 2. Hereinafter, we'll work with bigrams. Let's try to fit min_df."
   ]
  },
  {
   "cell_type": "code",
   "execution_count": 20,
   "id": "cb70a45b",
   "metadata": {},
   "outputs": [],
   "source": [
    "scores = []\n",
    "min_df = np.arange(1, 20, 1)\n",
    "for i in min_df:\n",
    "    pipe = Pipeline([('vect', TfidfVectorizer(stop_words = stopwords.words(\"russian\"), ngram_range = (1, 2), \n",
    "                                             min_df = i)), ('SVC', LinearSVC())])\n",
    "    scores.append(cross_val_score(pipe, train['text'], labels, scoring='accuracy', cv=5).mean())"
   ]
  },
  {
   "cell_type": "code",
   "execution_count": 21,
   "id": "928e3e97",
   "metadata": {},
   "outputs": [
    {
     "name": "stderr",
     "output_type": "stream",
     "text": [
      "No handles with labels found to put in legend.\n"
     ]
    },
    {
     "data": {
      "text/plain": [
       "<matplotlib.legend.Legend at 0x15ca5acb20>"
      ]
     },
     "execution_count": 21,
     "metadata": {},
     "output_type": "execute_result"
    },
    {
     "data": {
      "image/png": "[encoded data removed]",
      "text/plain": [
       "<Figure size 432x288 with 1 Axes>"
      ]
     },
     "metadata": {
      "needs_background": "light"
     },
     "output_type": "display_data"
    }
   ],
   "source": [
    "plt.title(\"Variation of minimal DF\")\n",
    "plt.plot(min_df, scores)\n",
    "plt.xlabel(\"Minimal DF\")\n",
    "plt.ylabel(\"Accuracy\")\n",
    "plt.legend()"
   ]
  },
  {
   "cell_type": "markdown",
   "id": "0b7ddd67",
   "metadata": {},
   "source": [
    "Trying to fit max_df."
   ]
  },
  {
   "cell_type": "code",
   "execution_count": 22,
   "id": "c7690f0c",
   "metadata": {},
   "outputs": [
    {
     "name": "stderr",
     "output_type": "stream",
     "text": [
      "C:\\Users\\All\\anaconda3\\lib\\site-packages\\sklearn\\model_selection\\_validation.py:610: FitFailedWarning: Estimator fit failed. The score on this train-test partition for these parameters will be set to nan. Details: \n",
      "Traceback (most recent call last):\n",
      "  File \"C:\\Users\\All\\anaconda3\\lib\\site-packages\\sklearn\\model_selection\\_validation.py\", line 593, in _fit_and_score\n",
      "    estimator.fit(X_train, y_train, **fit_params)\n",
      "  File \"C:\\Users\\All\\anaconda3\\lib\\site-packages\\sklearn\\pipeline.py\", line 341, in fit\n",
      "    Xt = self._fit(X, y, **fit_params_steps)\n",
      "  File \"C:\\Users\\All\\anaconda3\\lib\\site-packages\\sklearn\\pipeline.py\", line 303, in _fit\n",
      "    X, fitted_transformer = fit_transform_one_cached(\n",
      "  File \"C:\\Users\\All\\anaconda3\\lib\\site-packages\\joblib\\memory.py\", line 352, in __call__\n",
      "    return self.func(*args, **kwargs)\n",
      "  File \"C:\\Users\\All\\anaconda3\\lib\\site-packages\\sklearn\\pipeline.py\", line 754, in _fit_transform_one\n",
      "    res = transformer.fit_transform(X, y, **fit_params)\n",
      "  File \"C:\\Users\\All\\anaconda3\\lib\\site-packages\\sklearn\\feature_extraction\\text.py\", line 1850, in fit_transform\n",
      "    X = super().fit_transform(raw_documents)\n",
      "  File \"C:\\Users\\All\\anaconda3\\lib\\site-packages\\sklearn\\feature_extraction\\text.py\", line 1218, in fit_transform\n",
      "    raise ValueError(\n",
      "ValueError: max_df corresponds to < documents than min_df\n",
      "\n",
      "  warnings.warn(\"Estimator fit failed. The score on this train-test\"\n",
      "C:\\Users\\All\\anaconda3\\lib\\site-packages\\sklearn\\model_selection\\_validation.py:610: FitFailedWarning: Estimator fit failed. The score on this train-test partition for these parameters will be set to nan. Details: \n",
      "Traceback (most recent call last):\n",
      "  File \"C:\\Users\\All\\anaconda3\\lib\\site-packages\\sklearn\\model_selection\\_validation.py\", line 593, in _fit_and_score\n",
      "    estimator.fit(X_train, y_train, **fit_params)\n",
      "  File \"C:\\Users\\All\\anaconda3\\lib\\site-packages\\sklearn\\pipeline.py\", line 341, in fit\n",
      "    Xt = self._fit(X, y, **fit_params_steps)\n",
      "  File \"C:\\Users\\All\\anaconda3\\lib\\site-packages\\sklearn\\pipeline.py\", line 303, in _fit\n",
      "    X, fitted_transformer = fit_transform_one_cached(\n",
      "  File \"C:\\Users\\All\\anaconda3\\lib\\site-packages\\joblib\\memory.py\", line 352, in __call__\n",
      "    return self.func(*args, **kwargs)\n",
      "  File \"C:\\Users\\All\\anaconda3\\lib\\site-packages\\sklearn\\pipeline.py\", line 754, in _fit_transform_one\n",
      "    res = transformer.fit_transform(X, y, **fit_params)\n",
      "  File \"C:\\Users\\All\\anaconda3\\lib\\site-packages\\sklearn\\feature_extraction\\text.py\", line 1850, in fit_transform\n",
      "    X = super().fit_transform(raw_documents)\n",
      "  File \"C:\\Users\\All\\anaconda3\\lib\\site-packages\\sklearn\\feature_extraction\\text.py\", line 1218, in fit_transform\n",
      "    raise ValueError(\n",
      "ValueError: max_df corresponds to < documents than min_df\n",
      "\n",
      "  warnings.warn(\"Estimator fit failed. The score on this train-test\"\n",
      "C:\\Users\\All\\anaconda3\\lib\\site-packages\\sklearn\\model_selection\\_validation.py:610: FitFailedWarning: Estimator fit failed. The score on this train-test partition for these parameters will be set to nan. Details: \n",
      "Traceback (most recent call last):\n",
      "  File \"C:\\Users\\All\\anaconda3\\lib\\site-packages\\sklearn\\model_selection\\_validation.py\", line 593, in _fit_and_score\n",
      "    estimator.fit(X_train, y_train, **fit_params)\n",
      "  File \"C:\\Users\\All\\anaconda3\\lib\\site-packages\\sklearn\\pipeline.py\", line 341, in fit\n",
      "    Xt = self._fit(X, y, **fit_params_steps)\n",
      "  File \"C:\\Users\\All\\anaconda3\\lib\\site-packages\\sklearn\\pipeline.py\", line 303, in _fit\n",
      "    X, fitted_transformer = fit_transform_one_cached(\n",
      "  File \"C:\\Users\\All\\anaconda3\\lib\\site-packages\\joblib\\memory.py\", line 352, in __call__\n",
      "    return self.func(*args, **kwargs)\n",
      "  File \"C:\\Users\\All\\anaconda3\\lib\\site-packages\\sklearn\\pipeline.py\", line 754, in _fit_transform_one\n",
      "    res = transformer.fit_transform(X, y, **fit_params)\n",
      "  File \"C:\\Users\\All\\anaconda3\\lib\\site-packages\\sklearn\\feature_extraction\\text.py\", line 1850, in fit_transform\n",
      "    X = super().fit_transform(raw_documents)\n",
      "  File \"C:\\Users\\All\\anaconda3\\lib\\site-packages\\sklearn\\feature_extraction\\text.py\", line 1218, in fit_transform\n",
      "    raise ValueError(\n",
      "ValueError: max_df corresponds to < documents than min_df\n",
      "\n",
      "  warnings.warn(\"Estimator fit failed. The score on this train-test\"\n",
      "C:\\Users\\All\\anaconda3\\lib\\site-packages\\sklearn\\model_selection\\_validation.py:610: FitFailedWarning: Estimator fit failed. The score on this train-test partition for these parameters will be set to nan. Details: \n",
      "Traceback (most recent call last):\n",
      "  File \"C:\\Users\\All\\anaconda3\\lib\\site-packages\\sklearn\\model_selection\\_validation.py\", line 593, in _fit_and_score\n",
      "    estimator.fit(X_train, y_train, **fit_params)\n",
      "  File \"C:\\Users\\All\\anaconda3\\lib\\site-packages\\sklearn\\pipeline.py\", line 341, in fit\n",
      "    Xt = self._fit(X, y, **fit_params_steps)\n",
      "  File \"C:\\Users\\All\\anaconda3\\lib\\site-packages\\sklearn\\pipeline.py\", line 303, in _fit\n",
      "    X, fitted_transformer = fit_transform_one_cached(\n",
      "  File \"C:\\Users\\All\\anaconda3\\lib\\site-packages\\joblib\\memory.py\", line 352, in __call__\n",
      "    return self.func(*args, **kwargs)\n",
      "  File \"C:\\Users\\All\\anaconda3\\lib\\site-packages\\sklearn\\pipeline.py\", line 754, in _fit_transform_one\n",
      "    res = transformer.fit_transform(X, y, **fit_params)\n",
      "  File \"C:\\Users\\All\\anaconda3\\lib\\site-packages\\sklearn\\feature_extraction\\text.py\", line 1850, in fit_transform\n",
      "    X = super().fit_transform(raw_documents)\n",
      "  File \"C:\\Users\\All\\anaconda3\\lib\\site-packages\\sklearn\\feature_extraction\\text.py\", line 1218, in fit_transform\n",
      "    raise ValueError(\n",
      "ValueError: max_df corresponds to < documents than min_df\n",
      "\n",
      "  warnings.warn(\"Estimator fit failed. The score on this train-test\"\n",
      "C:\\Users\\All\\anaconda3\\lib\\site-packages\\sklearn\\model_selection\\_validation.py:610: FitFailedWarning: Estimator fit failed. The score on this train-test partition for these parameters will be set to nan. Details: \n",
      "Traceback (most recent call last):\n",
      "  File \"C:\\Users\\All\\anaconda3\\lib\\site-packages\\sklearn\\model_selection\\_validation.py\", line 593, in _fit_and_score\n",
      "    estimator.fit(X_train, y_train, **fit_params)\n",
      "  File \"C:\\Users\\All\\anaconda3\\lib\\site-packages\\sklearn\\pipeline.py\", line 341, in fit\n",
      "    Xt = self._fit(X, y, **fit_params_steps)\n",
      "  File \"C:\\Users\\All\\anaconda3\\lib\\site-packages\\sklearn\\pipeline.py\", line 303, in _fit\n",
      "    X, fitted_transformer = fit_transform_one_cached(\n",
      "  File \"C:\\Users\\All\\anaconda3\\lib\\site-packages\\joblib\\memory.py\", line 352, in __call__\n",
      "    return self.func(*args, **kwargs)\n",
      "  File \"C:\\Users\\All\\anaconda3\\lib\\site-packages\\sklearn\\pipeline.py\", line 754, in _fit_transform_one\n",
      "    res = transformer.fit_transform(X, y, **fit_params)\n",
      "  File \"C:\\Users\\All\\anaconda3\\lib\\site-packages\\sklearn\\feature_extraction\\text.py\", line 1850, in fit_transform\n",
      "    X = super().fit_transform(raw_documents)\n",
      "  File \"C:\\Users\\All\\anaconda3\\lib\\site-packages\\sklearn\\feature_extraction\\text.py\", line 1218, in fit_transform\n",
      "    raise ValueError(\n",
      "ValueError: max_df corresponds to < documents than min_df\n",
      "\n",
      "  warnings.warn(\"Estimator fit failed. The score on this train-test\"\n"
     ]
    }
   ],
   "source": [
    "scores = []\n",
    "max_df = np.arange(0, 20, 1)\n",
    "for i in max_df:\n",
    "    pipe = Pipeline([('vect', TfidfVectorizer(stop_words = stopwords.words(\"russian\"), ngram_range = (1, 2), \n",
    "                                             max_df = i)), ('SVC', LinearSVC())])\n",
    "    scores.append(cross_val_score(pipe, train['text'], labels, scoring='accuracy', cv=5).mean())"
   ]
  },
  {
   "cell_type": "code",
   "execution_count": 23,
   "id": "ff4758b0",
   "metadata": {},
   "outputs": [
    {
     "name": "stderr",
     "output_type": "stream",
     "text": [
      "No handles with labels found to put in legend.\n"
     ]
    },
    {
     "data": {
      "text/plain": [
       "<matplotlib.legend.Legend at 0x15c599af70>"
      ]
     },
     "execution_count": 23,
     "metadata": {},
     "output_type": "execute_result"
    },
    {
     "data": {
      "image/png": "[encoded data removed]",
      "text/plain": [
       "<Figure size 432x288 with 1 Axes>"
      ]
     },
     "metadata": {
      "needs_background": "light"
     },
     "output_type": "display_data"
    }
   ],
   "source": [
    "plt.title(\"Variation of maximal DF\")\n",
    "plt.plot(max_df, scores)\n",
    "plt.xlabel(\"Maximal DF\")\n",
    "plt.ylabel(\"Accuracy\")\n",
    "plt.legend()"
   ]
  },
  {
   "cell_type": "markdown",
   "id": "74d2a27c",
   "metadata": {},
   "source": [
    "In fact, limitations of DF don't make changes. Let's now fit the pipeline to the training set."
   ]
  },
  {
   "cell_type": "code",
   "execution_count": 24,
   "id": "ceb69c9f",
   "metadata": {},
   "outputs": [
    {
     "data": {
      "text/plain": [
       "Pipeline(steps=[('vect',\n",
       "                 TfidfVectorizer(ngram_range=(1, 2),\n",
       "                                 stop_words=['и', 'в', 'во', 'не', 'что', 'он',\n",
       "                                             'на', 'я', 'с', 'со', 'как', 'а',\n",
       "                                             'то', 'все', 'она', 'так', 'его',\n",
       "                                             'но', 'да', 'ты', 'к', 'у', 'же',\n",
       "                                             'вы', 'за', 'бы', 'по', 'только',\n",
       "                                             'ее', 'мне', ...])),\n",
       "                ('SVC', LinearSVC())])"
      ]
     },
     "execution_count": 24,
     "metadata": {},
     "output_type": "execute_result"
    }
   ],
   "source": [
    "pipe = Pipeline([('vect', TfidfVectorizer(stop_words = stopwords.words(\"russian\"), ngram_range = (1, 2), \n",
    "                                             )), ('SVC', LinearSVC())])\n",
    "pipe.fit(train['text'], labels)"
   ]
  },
  {
   "cell_type": "markdown",
   "id": "7f7b86bc",
   "metadata": {},
   "source": [
    "# 4) Verification and pickling of the model"
   ]
  },
  {
   "cell_type": "code",
   "execution_count": 28,
   "id": "829122fd",
   "metadata": {},
   "outputs": [
    {
     "name": "stdout",
     "output_type": "stream",
     "text": [
      "1\n",
      "0\n"
     ]
    }
   ],
   "source": [
    "pos_review = ['очень приятно держать телефон в руках. тонкий, стильный.'] # Positive review\n",
    "neg_review = ['очень мало памяти, качество передней камеры - плохое'] # negative review\n",
    "\n",
    "print(pipe.predict(pos_review)[0])\n",
    "print(pipe.predict(neg_review)[0])\n",
    "\n",
    "with open('sentiment_classifier.pkl', 'wb') as f:  # pickling of the pipeline\n",
    "    pickle.dump(pipe, f)"
   ]
  }
 ],
 "metadata": {
  "kernelspec": {
   "display_name": "Python 3",
   "language": "python",
   "name": "python3"
  },
  "language_info": {
   "codemirror_mode": {
    "name": "ipython",
    "version": 3
   },
   "file_extension": ".py",
   "mimetype": "text/x-python",
   "name": "python",
   "nbconvert_exporter": "python",
   "pygments_lexer": "ipython3",
   "version": "3.8.8"
  }
 },
 "nbformat": 4,
 "nbformat_minor": 5
}
