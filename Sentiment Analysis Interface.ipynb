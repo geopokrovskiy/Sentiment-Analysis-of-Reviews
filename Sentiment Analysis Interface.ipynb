{
 "cells": [
  {
   "cell_type": "code",
   "execution_count": 9,
   "id": "b61d4dad",
   "metadata": {},
   "outputs": [
    {
     "name": "stdout",
     "output_type": "stream",
     "text": [
      "Loading of the classifier...\n",
      "The classifier has been load\n",
      " * Serving Flask app \"__main__\" (lazy loading)\n",
      " * Environment: production\n",
      "   WARNING: This is a development server. Do not use it in a production deployment.\n",
      "   Use a production WSGI server instead.\n",
      " * Debug mode: off\n"
     ]
    },
    {
     "name": "stderr",
     "output_type": "stream",
     "text": [
      " * Running on http://127.0.0.1:5000/ (Press CTRL+C to quit)\n",
      "127.0.0.1 - - [10/Oct/2022 16:11:43] \"\u001b[37mGET / HTTP/1.1\u001b[0m\" 200 -\n",
      "127.0.0.1 - - [10/Oct/2022 16:11:50] \"\u001b[37mPOST / HTTP/1.1\u001b[0m\" 200 -\n"
     ]
    }
   ],
   "source": [
    "from flask import Flask, render_template # import of standard tools for the form vizualisation\n",
    "from flask_bootstrap import Bootstrap\n",
    "from flask_wtf import FlaskForm # The main class used for the form vizualisation\n",
    "from wtforms import TextAreaField, SubmitField # import flask tools for html tags <textarea> and <input type=\"submit\">\n",
    "from wtforms.validators import InputRequired, Length # import of validators of reviews (NOT NULL, Length)\n",
    "from sentiment_classifier import SentimentClassifier # import of a pickled classifier\n",
    "\n",
    "app = Flask(__name__)\n",
    "app.config['SECRET_KEY'] = \"secret_key\"\n",
    "Bootstrap(app)\n",
    "print(\"Loading of the classifier...\")\n",
    "classifier = SentimentClassifier()\n",
    "print(\"The classifier has been load\")\n",
    "\n",
    "#Creating a new class inherited from FlaskForm with html tags <textarea> and <input type=\"submit\"> added\n",
    "class NameForm(FlaskForm): \n",
    "    \"\"\"Class for the form rendering\"\"\"\n",
    "    name = TextAreaField(\"Review\", validators=[InputRequired(), Length(1, 5000)])\n",
    "    submit = SubmitField('Evaluate')\n",
    "    \n",
    "@app.route('/', methods=['GET', 'POST'])\n",
    "def index():\n",
    "    name = None\n",
    "    form = NameForm()\n",
    "    if (form.validate_on_submit() is True):\n",
    "        name = form.name.data\n",
    "        name = classifier.get_prediction_message(name)\n",
    "    else:\n",
    "        name = None\n",
    "    return render_template('index.html', form=form, name=name)\n",
    "    \n",
    "if __name__ == '__main__':\n",
    "    app.run()"
   ]
  },
  {
   "cell_type": "code",
   "execution_count": null,
   "id": "c3accf37",
   "metadata": {},
   "outputs": [],
   "source": []
  }
 ],
 "metadata": {
  "kernelspec": {
   "display_name": "Python 3",
   "language": "python",
   "name": "python3"
  },
  "language_info": {
   "codemirror_mode": {
    "name": "ipython",
    "version": 3
   },
   "file_extension": ".py",
   "mimetype": "text/x-python",
   "name": "python",
   "nbconvert_exporter": "python",
   "pygments_lexer": "ipython3",
   "version": "3.8.8"
  }
 },
 "nbformat": 4,
 "nbformat_minor": 5
}
